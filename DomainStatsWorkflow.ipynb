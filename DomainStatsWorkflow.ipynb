{
 "cells": [
  {
   "cell_type": "markdown",
   "metadata": {},
   "source": [
    "General purpose imports"
   ]
  },
  {
   "cell_type": "code",
   "execution_count": 1,
   "metadata": {},
   "outputs": [],
   "source": [
    "import numpy as np\n",
    "import matplotlib.pyplot as plt\n",
    "\n",
    "import hystorian as hy\n",
    "import h5py\n",
    "\n",
    "import os\n",
    "from glob import glob\n",
    "\n",
    "from IPython.display import clear_output"
   ]
  },
  {
   "cell_type": "markdown",
   "metadata": {},
   "source": [
    "Next, we load all the data in `raw_data_path` into the `.hdf5` format and store it in `data_path`. We make one `.hdf5` file per sample, by assuming the raw data filenames start with the sample name followed by an underscore."
   ]
  },
  {
   "cell_type": "code",
   "execution_count": 2,
   "metadata": {},
   "outputs": [
    {
     "name": "stdout",
     "output_type": "stream",
     "text": [
      "The following measurements were converted previously and have been ignored:\n",
      "m21003b_topo_MC_009\n",
      "m21004DSOJ4_topo_MC_005\n",
      "m21004DSOJ4_topo_MC_008\n",
      "m21005b_topo_MC_006\n",
      "m21005b_topo_MC_009\n",
      "m21006DSOI2_topo_MC_005\n",
      "m21007b_topo_MC_003\n",
      "m20036_topo_MC_006\n",
      "m20036_topo_MC_007\n",
      "m20036_topo_MC_008\n",
      "m20037_topo_MC_003\n",
      "m20037_topo_MC_004\n",
      "m20038_topo_MC_006\n",
      "m20038_topo_MC_007\n",
      "m20038_topo_MC_010\n",
      "m20039_topo_MC_010\n",
      "m20039_topo_MC_011\n",
      "m20041_topo_MC_006\n",
      "m20041_topo_MC_007\n",
      "m21003DSOJ2_topo_MC_006\n",
      "m21003DSOJ2_topo_MC_009\n",
      "m21005DSOF2_topo_MC_005\n",
      "m21005DSOF2_topo_MC_008\n",
      "m21007DSOC3_topo_MC_005\n",
      "\n",
      "\n",
      "The following files were skipped:\n",
      "data\\to_convert\\\n",
      "data\\to_convert\\old\n",
      "If any of these files should have been included, check the allowed extensions.\n"
     ]
    }
   ],
   "source": [
    "allowed_extensions = set(('.ibw', '.sxm'))\n",
    "raw_data_path = os.path.join('data', 'to_convert')\n",
    "data_path = 'data'\n",
    "skipped_list = []\n",
    "already_converted = []\n",
    "to_convert = {}\n",
    "\n",
    "for fn in glob(os.path.join(raw_data_path, '**'), recursive=True):\n",
    "    \n",
    "    #skip anything that doesn't have an allowed extension\n",
    "    if os.path.splitext(fn)[1] not in allowed_extensions:\n",
    "        skipped_list.append(fn)\n",
    "        continue\n",
    "    \n",
    "    measurement_name = os.path.splitext(os.path.basename(fn))[0]\n",
    "    sample_name = measurement_name.split('_')[0]\n",
    "    combined_name = os.path.join(data_path, sample_name)\n",
    "    \n",
    "    #check if the sample file exists \n",
    "    if os.path.isfile(combined_name+'.hdf5'):\n",
    "        with h5py.File(combined_name+'.hdf5', 'r') as f:\n",
    "            #check if the measurement is already there\n",
    "            if f'datasets/{measurement_name}' in f:\n",
    "                already_converted.append(measurement_name)\n",
    "                continue\n",
    "    \n",
    "    #Since the measurement is not there, add it to the list to convert\n",
    "    to_convert.setdefault(combined_name, []).append(fn.replace('\\\\', '/'))    \n",
    "    \n",
    "for combined_name, filelist in to_convert.items():\n",
    "    hy.io.read_file.merge_hdf5(filelist, combined_name)\n",
    "\n",
    "for combined_name in to_convert:\n",
    "    sample_name = os.path.basename(combined_name)\n",
    "    with h5py.File(combined_name+'.hdf5', 'r+') as f:\n",
    "        #check if sample thickness is given, ask for it if not\n",
    "        if f['datasets'].attrs.get('Thickness_uc') is None:\n",
    "            try:\n",
    "                f['datasets'].attrs.create('Thickness_uc',\n",
    "                                            int(input(f'What is the thickness of {sample_name} in uc?')))\n",
    "            except ValueError:\n",
    "                pass\n",
    "                  \n",
    "    \n",
    "print('The following measurements were converted previously and have been ignored:')\n",
    "for mn in already_converted: print(mn)\n",
    "print('\\n')\n",
    "\n",
    "print('The following files were skipped:')\n",
    "for fn in skipped_list: print(fn)\n",
    "print('If any of these files should have been included, check the allowed extensions.')"
   ]
  },
  {
   "cell_type": "code",
   "execution_count": 30,
   "metadata": {},
   "outputs": [
    {
     "name": "stdout",
     "output_type": "stream",
     "text": [
      "data/Celine\n",
      "data/LoopsCeline-color.png\n",
      "data/m20036.hdf5\n",
      "data/m20037.hdf5\n",
      "data/m20038.hdf5\n",
      "data/m20039.hdf5\n",
      "data/m20041.hdf5\n",
      "data/m21003b.hdf5\n",
      "data/m21003DSOJ2.hdf5\n",
      "data/m21004DSOJ4.hdf5\n",
      "data/m21005b.hdf5\n",
      "data/m21005b_topo_MC_006.sxm\n",
      "data/m21005DSOF2.hdf5\n",
      "data/m21006DSOI2.hdf5\n",
      "data/m21007b.hdf5\n",
      "data/m21007DSOC3.hdf5\n",
      "data/test.txt\n",
      "data/to_convert\n"
     ]
    }
   ],
   "source": [
    "for fn in glob('data/*'):\n",
    "    print(fn.replace('\\\\', '/'))"
   ]
  },
  {
   "cell_type": "code",
   "execution_count": 39,
   "metadata": {},
   "outputs": [
    {
     "name": "stdout",
     "output_type": "stream",
     "text": [
      "m20038_topo_MC_006\n",
      "m20038_topo_MC_007\n",
      "m20038_topo_MC_010\n"
     ]
    }
   ],
   "source": [
    "with h5py.File('data/m20038.hdf5', 'r') as f:\n",
    "    for key in f['datasets']: print(key)\n",
    "    "
   ]
  },
  {
   "cell_type": "code",
   "execution_count": null,
   "metadata": {},
   "outputs": [],
   "source": []
  }
 ],
 "metadata": {
  "kernelspec": {
   "display_name": "Python 3",
   "language": "python",
   "name": "python3"
  },
  "language_info": {
   "codemirror_mode": {
    "name": "ipython",
    "version": 3
   },
   "file_extension": ".py",
   "mimetype": "text/x-python",
   "name": "python",
   "nbconvert_exporter": "python",
   "pygments_lexer": "ipython3",
   "version": "3.7.9"
  }
 },
 "nbformat": 4,
 "nbformat_minor": 4
}
