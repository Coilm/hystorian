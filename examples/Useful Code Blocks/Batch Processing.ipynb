{
 "cells": [
  {
   "cell_type": "markdown",
   "metadata": {},
   "source": [
    "# Batch Processing with Project Multiscale\n",
    "*By R. Bulanadi, 05/03/20*\n",
    "\n",
    "***\n",
    "\n",
    "Say you've finally processed images on a dozen different samples, and you want to finally put your results together. Each of your different samples are in their own .hdf5 files, which are stored in their own separate folders on your computer. If you want to do your final processing, you could go to every folder, run your code, and repeat for every single one of your samples... but that would be a bit complicated. What follows is some brief sample code that would allow you to process all your folders at once."
   ]
  },
  {
   "cell_type": "code",
   "execution_count": null,
   "metadata": {},
   "outputs": [],
   "source": [
    "import sys\n",
    "import h5py\n",
    "import numpy as np\n",
    "sys.path.insert(0, '/Users/ralph/Code/Project_Multiscale/')\n",
    "from glob import glob\n",
    "from multiscale.processing import twodim\n",
    "from multiscale.processing import core as pt\n",
    "import multiscale.io\n",
    "import os\n",
    "import matplotlib.pyplot as plt\n",
    "\n",
    " # set the path to the folder that contains all sample folders to a variable, and move to it\n",
    "path = '/Users/ralph/Code/Multiscale_Domain_Motion/A-Domain Distance - Directional' ### CHANGE\n",
    "os.chdir(path)\n",
    "\n",
    " # Using glob, search for each of the folders that contain all your files\n",
    "folders = glob('*050mV') ### CHANGE\n",
    "\n",
    " # We now repeat the following process through every single folder:\n",
    "for folder in folders:\n",
    "    \n",
    "     # First, we move to the the subfolder\n",
    "    curr_folder_path = path+'/'+folder\n",
    "    os.chdir(curr_folder_path)\n",
    "\n",
    "     # We now find the name of the .hdf5 file and open it\n",
    "    filename=glob('*050mV.hdf5')[0] ### CHANGE\n",
    "    with h5py.File(filename, 'r') as f:\n",
    "        \n",
    "         # After this, we can search for the data inside the .hdf5 file and do stuff to it\n",
    "        in_path = pt.path_search(filename, 'process/*-switchmap/SD*Switchmap')[0][0] ### CHANGE\n",
    "\n",
    "         # We can now do stuff to in_path_list as usual, eg. extract it as an array by calling\n",
    "         # np.array(f[in_path]), or move it into a list\n",
    "            "
   ]
  },
  {
   "cell_type": "markdown",
   "metadata": {},
   "source": [
    "The above codeblock will iterate through each of the folders found by the first glob. This means you can then have, for example, a list that contains all the data from each of the disparate .hdf5 files. Note that you can also, for example, apply a varying condition onto the first glob, via a for loop, to group your data collection into similar groups; eg. keep all your even numbered samples together, and analyse them separately from your odd numbered samples.\n",
    "***"
   ]
  }
 ],
 "metadata": {
  "kernelspec": {
   "display_name": "Python 3",
   "language": "python",
   "name": "python3"
  },
  "language_info": {
   "codemirror_mode": {
    "name": "ipython",
    "version": 3
   },
   "file_extension": ".py",
   "mimetype": "text/x-python",
   "name": "python",
   "nbconvert_exporter": "python",
   "pygments_lexer": "ipython3",
   "version": "3.7.3"
  }
 },
 "nbformat": 4,
 "nbformat_minor": 4
}
